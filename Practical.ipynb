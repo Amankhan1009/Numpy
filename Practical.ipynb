{
 "cells": [
  {
   "cell_type": "code",
   "execution_count": 5,
   "id": "e0eec437-1b3d-43f7-9425-7fe42c430cf8",
   "metadata": {},
   "outputs": [],
   "source": [
    "import numpy as np"
   ]
  },
  {
   "cell_type": "code",
   "execution_count": 6,
   "id": "8ca7780f-960a-4791-8257-020fd26c7627",
   "metadata": {},
   "outputs": [],
   "source": [
    "# Qn1:. Create a 3x3 NumPy array with random integers between 1 and 100. Then, interchange its rows and columns.\n",
    "\n",
    "# code->\n",
    "arr = np.random.randint(1,100,(3,3))"
   ]
  },
  {
   "cell_type": "code",
   "execution_count": 7,
   "id": "2c2aea1b-5879-4673-bd6b-6eeaf41a081f",
   "metadata": {},
   "outputs": [
    {
     "data": {
      "text/plain": [
       "array([[ 4, 82, 47],\n",
       "       [41, 72, 29],\n",
       "       [42, 20,  7]])"
      ]
     },
     "execution_count": 7,
     "metadata": {},
     "output_type": "execute_result"
    }
   ],
   "source": [
    "arr"
   ]
  },
  {
   "cell_type": "code",
   "execution_count": 6,
   "id": "6844fbc0-18a4-4881-90f4-d1980b6cc5df",
   "metadata": {},
   "outputs": [
    {
     "data": {
      "text/plain": [
       "array([[58, 35, 66],\n",
       "       [52, 73, 28],\n",
       "       [90, 29, 23]])"
      ]
     },
     "execution_count": 6,
     "metadata": {},
     "output_type": "execute_result"
    }
   ],
   "source": [
    "arr.T"
   ]
  },
  {
   "cell_type": "code",
   "execution_count": 7,
   "id": "7854e5b1-28af-4840-9473-8fcc55068c20",
   "metadata": {},
   "outputs": [
    {
     "data": {
      "text/plain": [
       "array([ 1,  2,  3,  4,  5,  6,  7,  8,  9, 10])"
      ]
     },
     "execution_count": 7,
     "metadata": {},
     "output_type": "execute_result"
    }
   ],
   "source": [
    "# Qn2: Generate a 1D NumPy array with 10 elements. Reshape it into a 2x5 array, then into a 5x2 array\n",
    "\n",
    "# code->\n",
    "arr = np.array([1,2,3,4,5,6,7,8,9,10])\n",
    "arr"
   ]
  },
  {
   "cell_type": "code",
   "execution_count": 9,
   "id": "7059edac-1d74-4f05-9e71-446b4abe878e",
   "metadata": {},
   "outputs": [
    {
     "data": {
      "text/plain": [
       "array([[ 1,  2,  3,  4,  5],\n",
       "       [ 6,  7,  8,  9, 10]])"
      ]
     },
     "execution_count": 9,
     "metadata": {},
     "output_type": "execute_result"
    }
   ],
   "source": [
    "arr.reshape(2,5)"
   ]
  },
  {
   "cell_type": "code",
   "execution_count": 10,
   "id": "ab31074d-8018-4ea5-ad6e-365a360b4496",
   "metadata": {},
   "outputs": [
    {
     "data": {
      "text/plain": [
       "array([[ 1,  2],\n",
       "       [ 3,  4],\n",
       "       [ 5,  6],\n",
       "       [ 7,  8],\n",
       "       [ 9, 10]])"
      ]
     },
     "execution_count": 10,
     "metadata": {},
     "output_type": "execute_result"
    }
   ],
   "source": [
    "arr.reshape(5,2)"
   ]
  },
  {
   "cell_type": "code",
   "execution_count": 30,
   "id": "cc45c095-50de-46f3-b6a9-2d4385245bfa",
   "metadata": {},
   "outputs": [
    {
     "name": "stdout",
     "output_type": "stream",
     "text": [
      "Original 4x4 Array:\n",
      " [[0.6628548  0.29513379 0.06383836 0.22955144]\n",
      " [0.44191847 0.32472618 0.95261442 0.71965673]\n",
      " [0.46626551 0.44728006 0.89469327 0.59440983]\n",
      " [0.18764535 0.42513193 0.07321387 0.70077344]]\n",
      "6x6 Array with Border:\n",
      " [[0.         0.         0.         0.         0.         0.        ]\n",
      " [0.         0.6628548  0.29513379 0.06383836 0.22955144 0.        ]\n",
      " [0.         0.44191847 0.32472618 0.95261442 0.71965673 0.        ]\n",
      " [0.         0.46626551 0.44728006 0.89469327 0.59440983 0.        ]\n",
      " [0.         0.18764535 0.42513193 0.07321387 0.70077344 0.        ]\n",
      " [0.         0.         0.         0.         0.         0.        ]]\n"
     ]
    }
   ],
   "source": [
    "# Qn3: Create a 4x4 NumPy array with random float values. Add a border of zeros around it, resulting in a 6x6 array\n",
    "\n",
    "# code->\n",
    "arr = np.random.rand(4, 4)\n",
    "bordered_arr = np.pad(arr, pad_width=1, mode='constant', constant_values=0)\n",
    "print(\"Original 4x4 Array:\\n\", arr)\n",
    "print(\"6x6 Array with Border:\\n\", bordered_arr)"
   ]
  },
  {
   "cell_type": "code",
   "execution_count": 13,
   "id": "c4928fa2-b045-4a8e-b5fa-58eb9c87c6db",
   "metadata": {},
   "outputs": [
    {
     "data": {
      "text/plain": [
       "array([10, 15, 20, 25, 30, 35, 40, 45, 50, 55, 60])"
      ]
     },
     "execution_count": 13,
     "metadata": {},
     "output_type": "execute_result"
    }
   ],
   "source": [
    "# Qn4: Using NumPy, create an array of integers from 10 to 60 with a step of 5.\n",
    "\n",
    "# code->\n",
    "arr = np.arange(10, 61, 5)\n",
    "arr"
   ]
  },
  {
   "cell_type": "code",
   "execution_count": 14,
   "id": "1c04d2a7-594f-4597-8eca-64aa6abeb8a0",
   "metadata": {},
   "outputs": [
    {
     "data": {
      "text/plain": [
       "array(['python', 'numpy', 'pandas'], dtype='<U6')"
      ]
     },
     "execution_count": 14,
     "metadata": {},
     "output_type": "execute_result"
    }
   ],
   "source": [
    "# Qn5: Create a NumPy array of strings ['python', 'numpy', 'pandas']. Apply different case transformations (uppercase, lowercase, title case, etc.) to each element.\n",
    "\n",
    "# code->\n",
    "str = np.array(['python', 'numpy', 'pandas'])\n",
    "str"
   ]
  },
  {
   "cell_type": "code",
   "execution_count": 15,
   "id": "47e7925f-2f7c-4521-bfce-4aa6b4d7cc18",
   "metadata": {},
   "outputs": [
    {
     "data": {
      "text/plain": [
       "dtype('<U6')"
      ]
     },
     "execution_count": 15,
     "metadata": {},
     "output_type": "execute_result"
    }
   ],
   "source": [
    "str.dtype"
   ]
  },
  {
   "cell_type": "code",
   "execution_count": 16,
   "id": "14e8c81a-8c67-478c-a453-99bfc6c59821",
   "metadata": {},
   "outputs": [
    {
     "data": {
      "text/plain": [
       "1"
      ]
     },
     "execution_count": 16,
     "metadata": {},
     "output_type": "execute_result"
    }
   ],
   "source": [
    "str.ndim"
   ]
  },
  {
   "cell_type": "code",
   "execution_count": 17,
   "id": "337ebf82-7673-437f-a8e7-1dfd6cc51296",
   "metadata": {},
   "outputs": [],
   "source": [
    "# Applying various string manipulation functions from np.char module"
   ]
  },
  {
   "cell_type": "code",
   "execution_count": 18,
   "id": "0726022f-be35-4d80-a658-eab3d6ed1995",
   "metadata": {},
   "outputs": [
    {
     "data": {
      "text/plain": [
       "array(['PYTHON', 'NUMPY', 'PANDAS'], dtype='<U6')"
      ]
     },
     "execution_count": 18,
     "metadata": {},
     "output_type": "execute_result"
    }
   ],
   "source": [
    "np.char.upper(str)"
   ]
  },
  {
   "cell_type": "code",
   "execution_count": 19,
   "id": "2c268dda-dd2f-4902-9b14-ae62772c9512",
   "metadata": {},
   "outputs": [
    {
     "data": {
      "text/plain": [
       "array(['python', 'numpy', 'pandas'], dtype='<U6')"
      ]
     },
     "execution_count": 19,
     "metadata": {},
     "output_type": "execute_result"
    }
   ],
   "source": [
    "np.char.lower(str)"
   ]
  },
  {
   "cell_type": "code",
   "execution_count": 22,
   "id": "c1de9bd5-5e5e-4a5c-9d89-f02e1c9fdb26",
   "metadata": {},
   "outputs": [
    {
     "data": {
      "text/plain": [
       "array(['Python', 'Numpy', 'Pandas'], dtype='<U6')"
      ]
     },
     "execution_count": 22,
     "metadata": {},
     "output_type": "execute_result"
    }
   ],
   "source": [
    "np.char.capitalize(str) "
   ]
  },
  {
   "cell_type": "code",
   "execution_count": 23,
   "id": "67dcf948-c003-4a4e-bd7f-4468b1fb8569",
   "metadata": {},
   "outputs": [
    {
     "data": {
      "text/plain": [
       "array(['PYTHON', 'NUMPY', 'PANDAS'], dtype='<U6')"
      ]
     },
     "execution_count": 23,
     "metadata": {},
     "output_type": "execute_result"
    }
   ],
   "source": [
    "np.char.swapcase(str) #convert lowercase into uppercase and vice versa"
   ]
  },
  {
   "cell_type": "code",
   "execution_count": 24,
   "id": "011f5fcd-8f19-46e5-912e-81fd99e812b3",
   "metadata": {},
   "outputs": [
    {
     "data": {
      "text/plain": [
       "array(['Python', 'Numpy', 'Pandas'], dtype='<U6')"
      ]
     },
     "execution_count": 24,
     "metadata": {},
     "output_type": "execute_result"
    }
   ],
   "source": [
    "np.char.title(str) # Capitalizing the first character of each word in the string"
   ]
  },
  {
   "cell_type": "code",
   "execution_count": 49,
   "id": "a46263e2-2cc3-4aaa-bd5a-e5d94dfa4e2d",
   "metadata": {},
   "outputs": [
    {
     "name": "stdout",
     "output_type": "stream",
     "text": [
      "Original Array:\n",
      " ['hello' 'world']\n",
      "Array with spaces between characters:\n",
      " ['h e l l o' 'w o r l d']\n"
     ]
    }
   ],
   "source": [
    "# Qn6: Generate a NumPy array of words. Insert a space between each character of every word in the array\n",
    "\n",
    "# code->\n",
    "arr = np.array(['hello', 'world'])\n",
    "spaced_arr = np.char.join(' ', arr)\n",
    "print(\"Original Array:\\n\", arr)\n",
    "print(\"Array with spaces between characters:\\n\", spaced_arr)"
   ]
  },
  {
   "cell_type": "code",
   "execution_count": 34,
   "id": "4469d8a9-db34-4211-8b57-341e09d8034b",
   "metadata": {},
   "outputs": [
    {
     "data": {
      "text/plain": [
       "array([[6, 5, 8],\n",
       "       [7, 1, 4],\n",
       "       [5, 5, 7]])"
      ]
     },
     "execution_count": 34,
     "metadata": {},
     "output_type": "execute_result"
    }
   ],
   "source": [
    "# Qn7:. Create two 2D NumPy arrays and perform element-wise addition, subtraction, multiplication, and division\n",
    "\n",
    "# code->\n",
    "arr1 = np.random.randint(1,10,(3,3))\n",
    "arr1"
   ]
  },
  {
   "cell_type": "code",
   "execution_count": 35,
   "id": "32669995-5421-4505-a5ef-832a55a6c36d",
   "metadata": {},
   "outputs": [
    {
     "data": {
      "text/plain": [
       "array([[2, 8, 7],\n",
       "       [9, 4, 9],\n",
       "       [4, 2, 1]])"
      ]
     },
     "execution_count": 35,
     "metadata": {},
     "output_type": "execute_result"
    }
   ],
   "source": [
    "arr2 = np.random.randint(1,10,(3,3))\n",
    "arr2"
   ]
  },
  {
   "cell_type": "code",
   "execution_count": 36,
   "id": "e5881f29-ebb3-44a4-92ae-1315bc931761",
   "metadata": {},
   "outputs": [
    {
     "data": {
      "text/plain": [
       "array([[ 8, 13, 15],\n",
       "       [16,  5, 13],\n",
       "       [ 9,  7,  8]])"
      ]
     },
     "execution_count": 36,
     "metadata": {},
     "output_type": "execute_result"
    }
   ],
   "source": [
    "# Addition\n",
    "arr1+arr2"
   ]
  },
  {
   "cell_type": "code",
   "execution_count": 37,
   "id": "8d927f7c-8877-4325-a619-e5e0b1cad16b",
   "metadata": {},
   "outputs": [
    {
     "data": {
      "text/plain": [
       "array([[ 4, -3,  1],\n",
       "       [-2, -3, -5],\n",
       "       [ 1,  3,  6]])"
      ]
     },
     "execution_count": 37,
     "metadata": {},
     "output_type": "execute_result"
    }
   ],
   "source": [
    "arr1-arr2"
   ]
  },
  {
   "cell_type": "code",
   "execution_count": 38,
   "id": "8cd6227f-c672-4a30-9f76-de4b94121c2f",
   "metadata": {},
   "outputs": [
    {
     "data": {
      "text/plain": [
       "array([[12, 40, 56],\n",
       "       [63,  4, 36],\n",
       "       [20, 10,  7]])"
      ]
     },
     "execution_count": 38,
     "metadata": {},
     "output_type": "execute_result"
    }
   ],
   "source": [
    "arr1*arr2"
   ]
  },
  {
   "cell_type": "code",
   "execution_count": 39,
   "id": "cb5b0098-8a95-4e4e-81ce-384b728522df",
   "metadata": {},
   "outputs": [
    {
     "data": {
      "text/plain": [
       "array([[3.        , 0.625     , 1.14285714],\n",
       "       [0.77777778, 0.25      , 0.44444444],\n",
       "       [1.25      , 2.5       , 7.        ]])"
      ]
     },
     "execution_count": 39,
     "metadata": {},
     "output_type": "execute_result"
    }
   ],
   "source": [
    "arr1/arr2"
   ]
  },
  {
   "cell_type": "code",
   "execution_count": 44,
   "id": "abc124f0-80b6-410c-ba2a-575661a2fda3",
   "metadata": {},
   "outputs": [
    {
     "name": "stdout",
     "output_type": "stream",
     "text": [
      "5x5 Identity Matrix:\n",
      " [[1. 0. 0. 0. 0.]\n",
      " [0. 1. 0. 0. 0.]\n",
      " [0. 0. 1. 0. 0.]\n",
      " [0. 0. 0. 1. 0.]\n",
      " [0. 0. 0. 0. 1.]]\n",
      "\n",
      "Diagonal Elements:\n",
      " [1. 1. 1. 1. 1.]\n"
     ]
    }
   ],
   "source": [
    "# Qn8:Use NumPy to create a 5x5 identity matrix, then extract its diagonal elements.\n",
    "\n",
    "# code->\n",
    "identity_matrix = np.identity(5)\n",
    "diagonal_elements = np.diag(identity_matrix)\n",
    "print(\"5x5 Identity Matrix:\\n\", identity_matrix)\n",
    "print()\n",
    "print(\"Diagonal Elements:\\n\", diagonal_elements)"
   ]
  },
  {
   "cell_type": "code",
   "execution_count": 46,
   "id": "de2de9d4-7eb8-4364-ab44-b406deca2dd3",
   "metadata": {},
   "outputs": [
    {
     "name": "stdout",
     "output_type": "stream",
     "text": [
      "Random Array:\n",
      " [798 214 634 873 846 535 447 428  97 757 207 171 911 942 865 966  65 222\n",
      " 330 264 208 415 851 265 742 155 429 332 544 696 567 706 529 489 688 430\n",
      " 244 560 988  29 900 494 866 613 670 497 844 144 501 590 976 903 525 264\n",
      " 754 634 265 431 185 327 842 443 781  51 954 223 201 813 443 885 752 982\n",
      " 821 436 718 454 484 215 507 446 202 160 676 849 847 448 811 537 731 873\n",
      " 961   3 686  76 102 720 315 667 838 930]\n",
      "\n",
      "Prime Numbers in Array:\n",
      " [ 97 757 911  29 613 431 443 223 443 821 811   3]\n"
     ]
    }
   ],
   "source": [
    "# Qn9: Generate a NumPy array of 100 random integers between 0 and 1000. Find and display all prime numbers in this array.\n",
    "\n",
    "# code->\n",
    "def is_prime(n):\n",
    "    if n < 2:\n",
    "        return False\n",
    "    for i in range(2, int(np.sqrt(n)) + 1):\n",
    "        if n % i == 0:\n",
    "            return False\n",
    "    return True\n",
    "\n",
    "arr = np.random.randint(0, 1001, 100)\n",
    "primes = arr[np.vectorize(is_prime)(arr)]\n",
    "print(\"Random Array:\\n\", arr)\n",
    "print()\n",
    "print(\"Prime Numbers in Array:\\n\", primes)\n"
   ]
  },
  {
   "cell_type": "code",
   "execution_count": 8,
   "id": "2a8834d4-6a84-4db7-8f9e-64049e2492bd",
   "metadata": {},
   "outputs": [
    {
     "data": {
      "text/plain": [
       "array([23, 33, 16, 27, 34, 16, 30, 29, 35, 30, 15, 31, 30, 16, 32, 29, 31,\n",
       "       31, 34, 35, 35, 34, 25, 23, 34, 34, 32, 16, 20, 34])"
      ]
     },
     "execution_count": 8,
     "metadata": {},
     "output_type": "execute_result"
    }
   ],
   "source": [
    "# Qn10: Create a NumPy array representing daily temperatures for a month. Calculate and display the weekly averages.\n",
    "\n",
    "# Ans:\n",
    "daily_temperatures = np.random.randint(15, 36, 30)\n",
    "daily_temperatures"
   ]
  },
  {
   "cell_type": "code",
   "execution_count": 50,
   "id": "8119b6f3-79df-4ea4-a7ea-6a70ea56fc8d",
   "metadata": {},
   "outputs": [],
   "source": [
    "week1=daily_temperatures[0:7]\n",
    "week2=daily_temperatures[7:14]\n",
    "week3=daily_temperatures[14:21]\n",
    "week4=daily_temperatures[21:28]"
   ]
  },
  {
   "cell_type": "code",
   "execution_count": 51,
   "id": "0fbaafe8-b105-4fa4-81dd-c93ef2328af0",
   "metadata": {},
   "outputs": [],
   "source": [
    "avg_week1=np.mean(week1)\n",
    "avg_week2=np.mean(week2)\n",
    "avg_week3=np.mean(week3)\n",
    "avg_week4=np.mean(week4)"
   ]
  },
  {
   "cell_type": "code",
   "execution_count": 53,
   "id": "59dbb4bd-fbb7-4b52-9d60-a1d55a3c80af",
   "metadata": {},
   "outputs": [
    {
     "name": "stdout",
     "output_type": "stream",
     "text": [
      "Average temperature of week1:  25.571428571428573\n",
      "Average temperature of week2:  26.571428571428573\n",
      "Average temperature of week3:  32.42857142857143\n",
      "Average temperature of week4:  28.285714285714285\n"
     ]
    }
   ],
   "source": [
    "print(\"Average temperature of week1: \",avg_week1)\n",
    "print(\"Average temperature of week2: \",avg_week2)\n",
    "print(\"Average temperature of week3: \",avg_week3)\n",
    "print(\"Average temperature of week4: \",avg_week4)"
   ]
  },
  {
   "cell_type": "code",
   "execution_count": null,
   "id": "3adc55f2-9e6d-450d-8e33-79e495317d8e",
   "metadata": {},
   "outputs": [],
   "source": []
  }
 ],
 "metadata": {
  "kernelspec": {
   "display_name": "Python 3 (ipykernel)",
   "language": "python",
   "name": "python3"
  },
  "language_info": {
   "codemirror_mode": {
    "name": "ipython",
    "version": 3
   },
   "file_extension": ".py",
   "mimetype": "text/x-python",
   "name": "python",
   "nbconvert_exporter": "python",
   "pygments_lexer": "ipython3",
   "version": "3.10.8"
  }
 },
 "nbformat": 4,
 "nbformat_minor": 5
}
